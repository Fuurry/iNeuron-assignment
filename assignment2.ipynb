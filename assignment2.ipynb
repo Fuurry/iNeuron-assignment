{
 "cells": [
  {
   "cell_type": "code",
   "execution_count": 1,
   "metadata": {},
   "outputs": [],
   "source": [
    "# TASK 1 Q)1.1 Write a Python Program to implement your own myreduce() function which works exactly like\n",
    "# Python's built-in function reduce()\n",
    "def my_reduce(func, seq):\n",
    "    first = seq[0]\n",
    "    for i in seq[1:]:\n",
    "         first = func(first, i)\n",
    "    return first"
   ]
  },
  {
   "cell_type": "code",
   "execution_count": 2,
   "metadata": {},
   "outputs": [],
   "source": [
    "# TASK 1 Q)1.2 Write a Python program to implement your own myfilter() function which works exactly like\n",
    "# Python's built-in function filter()\n",
    "def myfilter(func,input_list):\n",
    "    output_list=[]\n",
    "    for i in input_list:\n",
    "        check = func(i)\n",
    "        if check == True:\n",
    "            output_list.append(i)\n",
    "        else:\n",
    "            pass\n",
    "    return output_list"
   ]
  },
  {
   "cell_type": "code",
   "execution_count": 3,
   "metadata": {},
   "outputs": [
    {
     "data": {
      "text/plain": [
       "['A', 'C', 'A', 'D', 'G', 'I', 'L', 'D']"
      ]
     },
     "execution_count": 3,
     "metadata": {},
     "output_type": "execute_result"
    }
   ],
   "source": [
    "# TASK 1 Q)2 1) ['A', 'C', 'A', 'D', 'G', 'I', 'L', 'D']\n",
    "input_string1= \"ACADGILD\"\n",
    "output_list1 = [i for i in input_string1]\n",
    "output_list1"
   ]
  },
  {
   "cell_type": "code",
   "execution_count": 4,
   "metadata": {},
   "outputs": [
    {
     "data": {
      "text/plain": [
       "['x', 'xx', 'xxx', 'xxxx', 'y', 'yy', 'yyy', 'yyyy', 'z', 'zz', 'zzz', 'zzzz']"
      ]
     },
     "execution_count": 4,
     "metadata": {},
     "output_type": "execute_result"
    }
   ],
   "source": [
    "# TASK 1 Q)2 2) ['x', 'xx', 'xxx', 'xxxx', 'y', 'yy', 'yyy', 'yyyy', 'z', 'zz', 'zzz', 'zzzz']\n",
    "input_string2=\"xyz\"\n",
    "output_list2=[i*j for i in input_string2 for j in range(1,5)]\n",
    "output_list2"
   ]
  },
  {
   "cell_type": "code",
   "execution_count": 5,
   "metadata": {},
   "outputs": [
    {
     "data": {
      "text/plain": [
       "['x', 'y', 'z', 'xx', 'yy', 'zz', 'xxx', 'yyy', 'zzz']"
      ]
     },
     "execution_count": 5,
     "metadata": {},
     "output_type": "execute_result"
    }
   ],
   "source": [
    "# TASK 1 Q)2 3) ['x', 'y', 'z', 'xx', 'yy', 'zz', 'xxx', 'yyy', 'zzz']\n",
    "input_string3=\"xyz\"\n",
    "output_list3 = [i*j for j in range(1,4) for i in input_string3]\n",
    "output_list3\n"
   ]
  },
  {
   "cell_type": "code",
   "execution_count": 6,
   "metadata": {},
   "outputs": [
    {
     "data": {
      "text/plain": [
       "[[2], [3], [4], [3], [4], [5], [4], [5], [6]]"
      ]
     },
     "execution_count": 6,
     "metadata": {},
     "output_type": "execute_result"
    }
   ],
   "source": [
    "# TASK 1 Q)2 4) [[2], [3], [4], [3], [4], [5], [4], [5], [6]]\n",
    "output_list4=[[2+a+j] for j in range(3) for a in range(0,3)]\n",
    "output_list4"
   ]
  },
  {
   "cell_type": "code",
   "execution_count": 7,
   "metadata": {},
   "outputs": [
    {
     "data": {
      "text/plain": [
       "[[2, 3, 4, 5], [3, 4, 5, 6], [4, 5, 6, 7], [5, 6, 7, 8]]"
      ]
     },
     "execution_count": 7,
     "metadata": {},
     "output_type": "execute_result"
    }
   ],
   "source": [
    "# TASK 1 Q)2 5)[[2, 3, 4, 5], [3, 4, 5, 6], [4, 5, 6, 7], [5, 6, 7, 8]]\n",
    "output_list5=[[2+a+j for j in range(4)] for a in range(4)]\n",
    "output_list5"
   ]
  },
  {
   "cell_type": "code",
   "execution_count": 8,
   "metadata": {},
   "outputs": [
    {
     "data": {
      "text/plain": [
       "[(1, 1), (2, 1), (3, 1), (1, 2), (2, 2), (3, 2), (1, 3), (2, 3), (3, 3)]"
      ]
     },
     "execution_count": 8,
     "metadata": {},
     "output_type": "execute_result"
    }
   ],
   "source": [
    "# TASK 1 Q)2 6) [(1, 1), (2, 1), (3, 1), (1, 2), (2, 2), (3, 2), (1, 3), (2, 3), (3, 3)]\n",
    "output_list6 = [(j,i) for i in range(1,4) for j in range(1,4)]\n",
    "output_list6"
   ]
  },
  {
   "cell_type": "code",
   "execution_count": 9,
   "metadata": {},
   "outputs": [
    {
     "data": {
      "text/plain": [
       "'jaadahdjhajsdhahd'"
      ]
     },
     "execution_count": 9,
     "metadata": {},
     "output_type": "execute_result"
    }
   ],
   "source": [
    "# Task 1 Q)3 Implement a function longestWord() that takes a list of words and returns the longest one.\n",
    "def longestWord(input_list):\n",
    "    pos = []\n",
    "    for i in input_list:\n",
    "        x = len(i)\n",
    "        pos.append(x)\n",
    "    y = max(pos)\n",
    "    x = pos.index(y)\n",
    "    return input_list[x]\n",
    "# useri input list\n",
    "user_input = [\"sunil\",\"sdhdsa\",\"jaadahdjhajsdhahd\",\"hgdahagha\",\"d\",\"adsgh\"]\n",
    "# calling function \n",
    "longestWord(user_input)"
   ]
  },
  {
   "cell_type": "code",
   "execution_count": 10,
   "metadata": {},
   "outputs": [
    {
     "name": "stdout",
     "output_type": "stream",
     "text": [
      "22.44994432064365\n"
     ]
    }
   ],
   "source": [
    "# Task 2 Q)1.1 Write a Python Program(with class concepts) to find the area of the triangle using the below\n",
    "# formula.\n",
    "# area = (s*(s-a)*(s-b)*(s-c)) ** 0.5\n",
    "# Function to take the length of the sides of triangle from user should be defined in the parent\n",
    "# class and function to calculate the area should be defined in subclass.\n",
    "\n",
    "\n",
    "class Triangle:\n",
    "    def __init__(self,l1,l2,l3):\n",
    "        self.l1 = l1\n",
    "        self.l2 = l2\n",
    "        self.l3 = l3\n",
    "    def tri_area(self):\n",
    "        s = (self.l1+self.l2+self.l3)/2\n",
    "        a=(s*(s-self.l1)*(s-self.l2)*(s-self.l3))**0.5\n",
    "        return a\n",
    "t1 = Triangle(5,10,13)\n",
    "print(t1.tri_area())"
   ]
  },
  {
   "cell_type": "code",
   "execution_count": 11,
   "metadata": {},
   "outputs": [
    {
     "data": {
      "text/plain": [
       "['ggasgd', 'hajdad', 'dagagshgf', 'gdashg']"
      ]
     },
     "execution_count": 11,
     "metadata": {},
     "output_type": "execute_result"
    }
   ],
   "source": [
    "# Task 2 Q)1.2  Write a function filter_long_words() that takes a list of words and an integer n and returns the list\n",
    "# of words that are longer than n.\n",
    "def filter_long_word(input_list,n):\n",
    "    output = []\n",
    "    for i in input_list:\n",
    "        x = len(i)\n",
    "        if x>n:\n",
    "            output.append(i)\n",
    "        else:\n",
    "            pass\n",
    "    return output\n",
    "# user input as list and required word length\n",
    "user_input=[\"sunil\",\"ggasgd\",\"hajdad\",\"s\",\"adg\",\"dagagshgf\",\"gdashg\",\"dsdd\"]\n",
    "word_len_filter = 5\n",
    "# calling function for with given argument\n",
    "filter_long_word(user_input,word_len_filter)"
   ]
  },
  {
   "cell_type": "code",
   "execution_count": 12,
   "metadata": {},
   "outputs": [
    {
     "data": {
      "text/plain": [
       "[5, 6, 6, 1, 3, 9, 6, 4]"
      ]
     },
     "execution_count": 12,
     "metadata": {},
     "output_type": "execute_result"
    }
   ],
   "source": [
    "# Task 2 Q)2.1  Write a Python program using function concept that maps list of words into a list of integers\n",
    "# representing the lengths of the corresponding words.\n",
    "user_input2 = [\"sunil\",\"ggasgd\",\"hajdad\",\"s\",\"adg\",\"dagagshgf\",\"gdashg\",\"dsdd\"]\n",
    "\n",
    "def list_word_len(user_input2):\n",
    "    return [len(i) for i in user_input2]\n",
    "# calling function\n",
    "list_word_len(user_input2)\n"
   ]
  },
  {
   "cell_type": "code",
   "execution_count": 13,
   "metadata": {},
   "outputs": [
    {
     "data": {
      "text/plain": [
       "True"
      ]
     },
     "execution_count": 13,
     "metadata": {},
     "output_type": "execute_result"
    }
   ],
   "source": [
    "# Task 2 Q)2.2 Write a Python function which takes a character (i.e. a string of length 1) and returns True if it is\n",
    "# a vowel, False otherwise.\n",
    "user_input3 = \"a\"\n",
    "\n",
    "def vowel_check(x):\n",
    "    if x in \"aeiou\":\n",
    "        return True\n",
    "    return False\n",
    "\n",
    "vowel_check(user_input3)"
   ]
  },
  {
   "cell_type": "code",
   "execution_count": null,
   "metadata": {},
   "outputs": [],
   "source": []
  }
 ],
 "metadata": {
  "kernelspec": {
   "display_name": "Python 3",
   "language": "python",
   "name": "python3"
  },
  "language_info": {
   "codemirror_mode": {
    "name": "ipython",
    "version": 3
   },
   "file_extension": ".py",
   "mimetype": "text/x-python",
   "name": "python",
   "nbconvert_exporter": "python",
   "pygments_lexer": "ipython3",
   "version": "3.7.4"
  }
 },
 "nbformat": 4,
 "nbformat_minor": 2
}
